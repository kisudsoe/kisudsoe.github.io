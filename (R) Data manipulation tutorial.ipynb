{
 "cells": [
  {
   "cell_type": "markdown",
   "metadata": {},
   "source": [
    "![](images/R.png)"
   ]
  },
  {
   "cell_type": "markdown",
   "metadata": {},
   "source": [
    "# Data manipulation\n",
    "\n",
    "In this section, we can practice to handle dataset with various ways."
   ]
  },
  {
   "cell_type": "markdown",
   "metadata": {},
   "source": [
    "## Read/Write\n",
    "\n",
    "* Original file at [[read.write.md]] (170715 v3.1)\n",
    "\n",
    "### R update to new version\n",
    "\n",
    "* R update in R command\n",
    "\n",
    "```r\n",
    "## R session\n",
    "install.packages(\"installr\")\n",
    "library(installr)\n",
    "updateR()\n",
    "```\n",
    "\n",
    "### Install packages\n",
    "\n",
    "* Install packages in Jupyter kernel (in Atom)\n",
    "\n",
    "```r\n",
    "# from CRAN\n",
    "install.packages('multicompView', repos=\"http://cran.us.r-project.org\")\n",
    "# Bioconductor\n",
    "source(\"https://bioconductor.org/biocLite.R\"); biocLite(\"limma\")\n",
    "```\n",
    "\n",
    "### Read from keyboard input\n",
    "\n",
    "```r\n",
    "a = readLines(con=file(\"stdin\"))\n",
    "```\n",
    "\n",
    "### Read/Write file\n",
    "\n",
    "```r\n",
    "read.delim('filename.txt', header=TRUE) # Read txt file delimited by tab.\n",
    "read.csv('filename.csv',header=TRUE) \t# Read csv file.\n",
    "\n",
    "write.table(fdr,\"fdr.csv\",sep=\",\",row.names=TRUE) # save into your workspace\n",
    "lapply(pca.AST,function(x)\n",
    "       write.table(data.frame(x),\"pca.AST.csv\",append=T,sep=\",\")) # save list as csv file\n",
    "```\n",
    "\n",
    "### winProgressBar\n",
    "\n",
    "* Updated at 2017\n",
    "\n",
    "```r\n",
    "## insert these code at head of function\n",
    "time1=Sys.time(); n=length(iter)\n",
    "pb=winProgressBar(title=\"Progress\",label=\"description\",min=0,max=n,width=500)\n",
    "## insert these code at tail of function\n",
    "for(i in 1:n) {\n",
    "\t## Progress time ##\n",
    "\td=difftime(Sys.time(),time1,unit=\"sec\")\n",
    "\tif(d<60) d=paste(round(d,2),\"sec\")\n",
    "\telse if(d>=60 && d<3600) d=paste(round(d/60,1),\"min\")\n",
    "\telse if(d>=3600) d=paste(round(d/3600,1),\"hr\")\n",
    "\tsetWinProgressBar(pb,i,title=paste0(round(i/n*100,1),\" % (\",i,\"/\",n,\") done for \",d))\n",
    "\t###################\n",
    "}\n",
    "print(difftime(Sys.time(),time1,units=\"auto\")); close(pb)\n",
    "```"
   ]
  },
  {
   "cell_type": "markdown",
   "metadata": {},
   "source": [
    "## Affymetrix CEL file process\n",
    "\n",
    "* Local CEL file process using \"affy\" package in Bioconductor\n",
    "\n",
    "```r\n",
    "source(\"https://bioconductor.org/biocLite.R\")\n",
    "biocLite(\"affy\")\n",
    "\n",
    "# Load packages and CEL files\n",
    "library(affy)\n",
    "setwd(\"C:/Users/KimSS-Work/Desktop/GSE60596_RAW\")\n",
    "c = ReadAffy()\n",
    "\n",
    "image(c) # draw image plot\n",
    "```\n",
    "\n",
    "* Data normalization using RMA algorithm\n",
    "\n",
    "```r\n",
    "c_rma = rma(c) # RMA by rma\n",
    "c_ex = expresso(c, bgcorrect.method=\"rma\", # RMA by expresso\n",
    "                normalize.method=\"quantiles\",\n",
    "                pmcorrect.method=\"pmonly\",\n",
    "                summary.method=\"medianpolish\")\n",
    "\n",
    "cl = log2(exprs(c)) # before normalization\n",
    "ces = exprs(c_ex) # after normalization\n",
    "```\n",
    "\n",
    "* Visualization of the results\n",
    "\n",
    "```r\n",
    "# (1) boxplot\n",
    "par(mfrow=c(1,2),\n",
    "    mar=c(17,2,3,1)) # bottom, left, top, right\n",
    "boxplot(cl,main=\"Before\",ylim=c(0,15),las=2)\n",
    "boxplot(ces,main=\"After\",ylim=c(0,15),las=2)\n",
    "\n",
    "# (2) MA plot\n",
    "mva.pairs(cl[,1:3])\n",
    "mva.pairs(ces[,1:3])\n",
    "```"
   ]
  },
  {
   "cell_type": "markdown",
   "metadata": {},
   "source": [
    "## Download data from GEO DB\n",
    "\n",
    "* See GEOquery manual: http://bioconductor.org/packages/release/bioc/html/GEOquery.html\n",
    "* Bioconductor version: Release (3.6)"
   ]
  },
  {
   "cell_type": "code",
   "execution_count": null,
   "metadata": {},
   "outputs": [],
   "source": [
    "#source(\"https://bioconductor.org/biocLite.R\")\n",
    "#biocLite(\"Biobase\")\n",
    "#biocLite(\"GEOquery\")"
   ]
  },
  {
   "cell_type": "markdown",
   "metadata": {},
   "source": [
    "* GSE60596: Data of mouse CR fat paper\n",
    "\n",
    "![](images/GSE60596_study_design.png)"
   ]
  },
  {
   "cell_type": "code",
   "execution_count": 50,
   "metadata": {},
   "outputs": [
    {
     "name": "stderr",
     "output_type": "stream",
     "text": [
      "https://ftp.ncbi.nlm.nih.gov/geo/series/GSE60nnn/GSE60596/matrix/\n",
      "OK\n",
      "Found 1 file(s)\n",
      "GSE60596_series_matrix.txt.gz\n",
      "Using locally cached version: C:\\Users\\Public\\Documents\\ESTsoft\\CreatorTemp\\RtmpmuPYLi/GSE60596_series_matrix.txt.gz\n"
     ]
    },
    {
     "name": "stdout",
     "output_type": "stream",
     "text": [
      "ExpressionSet (storageMode: lockedEnvironment)\n",
      "assayData: 28853 features, 12 samples \n",
      "  element names: exprs \n",
      "protocolData: none\n",
      "phenoData\n",
      "  sampleNames: GSM1483027 GSM1483028 ... GSM1483038 (12 total)\n",
      "  varLabels: title geo_accession ... data_row_count (38 total)\n",
      "  varMetadata: labelDescription\n",
      "featureData: none\n",
      "experimentData: use 'experimentData(object)'\n",
      "Annotation: GPL6246 \n"
     ]
    }
   ],
   "source": [
    "library(Biobase)\n",
    "library(GEOquery)\n",
    "gset <- getGEO(\"GSE60596\",GSEMatrix=T,getGPL=F)[[1]]\n",
    "show(gset)"
   ]
  },
  {
   "cell_type": "markdown",
   "metadata": {},
   "source": [
    "1. Group names for all samples in a series\n",
    "2. Orger samples by group"
   ]
  },
  {
   "cell_type": "code",
   "execution_count": 67,
   "metadata": {},
   "outputs": [
    {
     "name": "stdout",
     "output_type": "stream",
     "text": [
      " [1] \"G0\" \"G0\" \"G0\" \"G3\" \"G3\" \"G3\" \"G2\" \"G2\" \"G2\" \"G1\" \"G1\" \"G1\"\n",
      " [1] G0 G0 G0 G1 G1 G1 G2 G2 G2 G3 G3 G3\n",
      "Levels: G0 G1 G2 G3\n"
     ]
    }
   ],
   "source": [
    "# 1. Group names\n",
    "gsms <- \"000333222111\"\n",
    "for (i in 1:nchar(gsms)) sml[i] <- substr(gsms,i,i)\n",
    "sml <- paste(\"G\", sml, sep=\"\")  #set group names\n",
    "print(sml)\n",
    "# 2.Order by group\n",
    "ex <- exprs(gset)[ , order(sml)]\n",
    "sml <- sml[order(sml)]\n",
    "fl <- as.factor(sml)\n",
    "print(fl)\n",
    "labels <- c(\"CD\",\"CR85\",\"CR70\",\"CR55\")"
   ]
  },
  {
   "cell_type": "markdown",
   "metadata": {},
   "source": [
    "* Set parameters for the boxplot"
   ]
  },
  {
   "cell_type": "code",
   "execution_count": 63,
   "metadata": {},
   "outputs": [],
   "source": [
    "palette(c(\"#dfeaf4\",\"#f4dfdf\",\"#f2cb98\",\"#dcdaa5\", \"#AABBCC\"))\n",
    "dev.new(width=4+dim(gset)[[2]]/5, height=6)\n",
    "title <- paste (\"GSE60596\", '/', annotation(gset), \" selected samples\", sep ='')"
   ]
  },
  {
   "cell_type": "code",
   "execution_count": 64,
   "metadata": {},
   "outputs": [
    {
     "data": {
      "image/png": "[encoded data removed]",
      "text/plain": [
       "Plot with title \"GSE60596/GPL6246 selected samples\""
      ]
     },
     "metadata": {},
     "output_type": "display_data",
     "source": "R display func"
    }
   ],
   "source": [
    "par(mar=c(2+round(max(nchar(sampleNames(gset)))/2),4,2,1)) # to show long x-labels\n",
    "boxplot(ex, boxwex=0.6, notch=T, main=title, outline=FALSE, las=2, col=fl)\n",
    "legend(\"topleft\", labels, fill=palette(), bty=\"n\")"
   ]
  },
  {
   "cell_type": "markdown",
   "metadata": {},
   "source": [
    "## Data process of microarray\n",
    "\n",
    "### 1. Group to colnames"
   ]
  },
  {
   "cell_type": "code",
   "execution_count": 70,
   "metadata": {},
   "outputs": [
    {
     "data": {
      "text/html": [
       "<table>\n",
       "<thead><tr><th></th><th scope=col>GSM1483027</th><th scope=col>GSM1483028</th><th scope=col>GSM1483029</th><th scope=col>GSM1483030</th><th scope=col>GSM1483031</th><th scope=col>GSM1483032</th><th scope=col>GSM1483033</th><th scope=col>GSM1483034</th><th scope=col>GSM1483035</th><th scope=col>GSM1483036</th><th scope=col>GSM1483037</th><th scope=col>GSM1483038</th></tr></thead>\n",
       "<tbody>\n",
       "\t<tr><th scope=row>10344614</th><td>6.29828 </td><td>6.45706 </td><td>7.00539 </td><td>6.73219 </td><td> 6.61064</td><td>6.86500 </td><td> 6.53692</td><td> 6.66043</td><td>6.67828 </td><td> 6.79505</td><td>6.68073 </td><td>7.14738 </td></tr>\n",
       "\t<tr><th scope=row>10344616</th><td>1.56846 </td><td>1.72555 </td><td>1.78222 </td><td>1.72607 </td><td> 1.61721</td><td>1.50168 </td><td> 1.64366</td><td> 1.58296</td><td>1.72683 </td><td> 1.66227</td><td>1.66654 </td><td>1.62195 </td></tr>\n",
       "\t<tr><th scope=row>10344618</th><td>1.75445 </td><td>1.81673 </td><td>1.79576 </td><td>1.66881 </td><td> 1.87402</td><td>1.62195 </td><td> 1.97154</td><td> 1.62549</td><td>1.71369 </td><td> 1.55258</td><td>1.56346 </td><td>1.70583 </td></tr>\n",
       "\t<tr><th scope=row>10344620</th><td>3.77727 </td><td>3.77727 </td><td>3.74415 </td><td>3.87720 </td><td> 3.78526</td><td>3.95883 </td><td> 3.69814</td><td> 3.72268</td><td>3.44231 </td><td> 3.65586</td><td>3.89536 </td><td>3.63265 </td></tr>\n",
       "\t<tr><th scope=row>10344622</th><td>6.59422 </td><td>6.86125 </td><td>6.75612 </td><td>7.23078 </td><td> 6.63278</td><td>6.46169 </td><td> 7.62461</td><td> 7.62339</td><td>7.17349 </td><td> 7.81457</td><td>7.59132 </td><td>7.66592 </td></tr>\n",
       "\t<tr><th scope=row>10344624</th><td>9.84842 </td><td>9.95930 </td><td>9.72447 </td><td>9.71399 </td><td>10.11970</td><td>9.86267 </td><td>10.13760</td><td>10.13370</td><td>9.91964 </td><td>10.22380</td><td>9.60713 </td><td>9.71457 </td></tr>\n",
       "</tbody>\n",
       "</table>\n"
      ],
      "text/latex": [
       "\\begin{tabular}{r|llllllllllll}\n",
       "  & GSM1483027 & GSM1483028 & GSM1483029 & GSM1483030 & GSM1483031 & GSM1483032 & GSM1483033 & GSM1483034 & GSM1483035 & GSM1483036 & GSM1483037 & GSM1483038\\\\\n",
       "\\hline\n",
       "\t10344614 & 6.29828  & 6.45706  & 7.00539  & 6.73219  &  6.61064 & 6.86500  &  6.53692 &  6.66043 & 6.67828  &  6.79505 & 6.68073  & 7.14738 \\\\\n",
       "\t10344616 & 1.56846  & 1.72555  & 1.78222  & 1.72607  &  1.61721 & 1.50168  &  1.64366 &  1.58296 & 1.72683  &  1.66227 & 1.66654  & 1.62195 \\\\\n",
       "\t10344618 & 1.75445  & 1.81673  & 1.79576  & 1.66881  &  1.87402 & 1.62195  &  1.97154 &  1.62549 & 1.71369  &  1.55258 & 1.56346  & 1.70583 \\\\\n",
       "\t10344620 & 3.77727  & 3.77727  & 3.74415  & 3.87720  &  3.78526 & 3.95883  &  3.69814 &  3.72268 & 3.44231  &  3.65586 & 3.89536  & 3.63265 \\\\\n",
       "\t10344622 & 6.59422  & 6.86125  & 6.75612  & 7.23078  &  6.63278 & 6.46169  &  7.62461 &  7.62339 & 7.17349  &  7.81457 & 7.59132  & 7.66592 \\\\\n",
       "\t10344624 & 9.84842  & 9.95930  & 9.72447  & 9.71399  & 10.11970 & 9.86267  & 10.13760 & 10.13370 & 9.91964  & 10.22380 & 9.60713  & 9.71457 \\\\\n",
       "\\end{tabular}\n"
      ],
      "text/markdown": [
       "\n",
       "| <!--/--> | GSM1483027 | GSM1483028 | GSM1483029 | GSM1483030 | GSM1483031 | GSM1483032 | GSM1483033 | GSM1483034 | GSM1483035 | GSM1483036 | GSM1483037 | GSM1483038 | \n",
       "|---|---|---|---|---|---|\n",
       "| 10344614 | 6.29828  | 6.45706  | 7.00539  | 6.73219  |  6.61064 | 6.86500  |  6.53692 |  6.66043 | 6.67828  |  6.79505 | 6.68073  | 7.14738  | \n",
       "| 10344616 | 1.56846  | 1.72555  | 1.78222  | 1.72607  |  1.61721 | 1.50168  |  1.64366 |  1.58296 | 1.72683  |  1.66227 | 1.66654  | 1.62195  | \n",
       "| 10344618 | 1.75445  | 1.81673  | 1.79576  | 1.66881  |  1.87402 | 1.62195  |  1.97154 |  1.62549 | 1.71369  |  1.55258 | 1.56346  | 1.70583  | \n",
       "| 10344620 | 3.77727  | 3.77727  | 3.74415  | 3.87720  |  3.78526 | 3.95883  |  3.69814 |  3.72268 | 3.44231  |  3.65586 | 3.89536  | 3.63265  | \n",
       "| 10344622 | 6.59422  | 6.86125  | 6.75612  | 7.23078  |  6.63278 | 6.46169  |  7.62461 |  7.62339 | 7.17349  |  7.81457 | 7.59132  | 7.66592  | \n",
       "| 10344624 | 9.84842  | 9.95930  | 9.72447  | 9.71399  | 10.11970 | 9.86267  | 10.13760 | 10.13370 | 9.91964  | 10.22380 | 9.60713  | 9.71457  | \n",
       "\n",
       "\n"
      ],
      "text/plain": [
       "         GSM1483027 GSM1483028 GSM1483029 GSM1483030 GSM1483031 GSM1483032\n",
       "10344614 6.29828    6.45706    7.00539    6.73219     6.61064   6.86500   \n",
       "10344616 1.56846    1.72555    1.78222    1.72607     1.61721   1.50168   \n",
       "10344618 1.75445    1.81673    1.79576    1.66881     1.87402   1.62195   \n",
       "10344620 3.77727    3.77727    3.74415    3.87720     3.78526   3.95883   \n",
       "10344622 6.59422    6.86125    6.75612    7.23078     6.63278   6.46169   \n",
       "10344624 9.84842    9.95930    9.72447    9.71399    10.11970   9.86267   \n",
       "         GSM1483033 GSM1483034 GSM1483035 GSM1483036 GSM1483037 GSM1483038\n",
       "10344614  6.53692    6.66043   6.67828     6.79505   6.68073    7.14738   \n",
       "10344616  1.64366    1.58296   1.72683     1.66227   1.66654    1.62195   \n",
       "10344618  1.97154    1.62549   1.71369     1.55258   1.56346    1.70583   \n",
       "10344620  3.69814    3.72268   3.44231     3.65586   3.89536    3.63265   \n",
       "10344622  7.62461    7.62339   7.17349     7.81457   7.59132    7.66592   \n",
       "10344624 10.13760   10.13370   9.91964    10.22380   9.60713    9.71457   "
      ]
     },
     "metadata": {},
     "output_type": "display_data"
    }
   ],
   "source": [
    "g.ex = exprs(gset)\n",
    "group = c(rep(\"CD\",3),rep(\"CR85\",3),rep(\"CR70\",3),rep(\"CR55\",3))\n",
    "group = factor(group, levels=c(\"CD\",\"CR85\",\"CR70\",\"CR55\"))\n",
    "head(g.ex)"
   ]
  },
  {
   "cell_type": "markdown",
   "metadata": {},
   "source": [
    "### 2. Calculate ANOVA p-value & FDR"
   ]
  },
  {
   "cell_type": "code",
   "execution_count": 76,
   "metadata": {},
   "outputs": [
    {
     "name": "stdout",
     "output_type": "stream",
     "text": [
      "ANOVA p-val calculation: 55.6 sec elapsed\n",
      "FDR calculation: 0 sec elapsed\n"
     ]
    }
   ],
   "source": [
    "library(tictoc)\n",
    "tic(\"ANOVA p-val calculation\")\n",
    "pval = apply(g.ex, 1, function(row) {\n",
    "  fit = lm(row~group)\n",
    "  anovaP = anova(fit)$'Pr(>F)'[1]\n",
    "})\n",
    "toc()\n",
    "tic(\"FDR calculation\")\n",
    "pval.adj = p.adjust(pval,\"BH\") # adjust by FDR\n",
    "toc()"
   ]
  },
  {
   "cell_type": "code",
   "execution_count": 82,
   "metadata": {},
   "outputs": [
    {
     "name": "stdout",
     "output_type": "stream",
     "text": [
      "[1] \"p-val len= 28853\"\n",
      "[1] \"fdr   len= 28853\"\n"
     ]
    }
   ],
   "source": [
    "print(paste(\"p-val len=\",length(pval)))\n",
    "print(paste(\"fdr   len=\",length(pval.adj)))"
   ]
  },
  {
   "cell_type": "markdown",
   "metadata": {},
   "source": [
    "### 3. Visualize the p-value & FDR"
   ]
  },
  {
   "cell_type": "code",
   "execution_count": 78,
   "metadata": {},
   "outputs": [
    {
     "data": {},
     "metadata": {},
     "output_type": "display_data"
    },
    {
     "data": {
      "image/png": "[encoded data removed]",
      "text/plain": [
       "plot without title"
      ]
     },
     "metadata": {},
     "output_type": "display_data",
     "source": "R display func"
    }
   ],
   "source": [
    "library(ggplot2)\n",
    "p.df = stack(data.frame(pval,pval.adj))\n",
    "ggplot(p.df,aes(x=ind,y=values))+theme_bw()+\n",
    "  geom_boxplot(aes(fill=ind))+\n",
    "  labs(title=\"Distribution of pval and p.adj (FDR)\",\n",
    "       x=\"Algorithms\", y=\"p-values\")"
   ]
  },
  {
   "cell_type": "markdown",
   "metadata": {},
   "source": [
    "### 4. Calculate fold change values"
   ]
  },
  {
   "cell_type": "code",
   "execution_count": 89,
   "metadata": {},
   "outputs": [
    {
     "name": "stdout",
     "output_type": "stream",
     "text": [
      "average signal by groups: 1.59 sec elapsed\n"
     ]
    },
    {
     "data": {
      "text/html": [
       "<table>\n",
       "<thead><tr><th></th><th scope=col>CD</th><th scope=col>CR85</th><th scope=col>CR70</th><th scope=col>CR55</th></tr></thead>\n",
       "<tbody>\n",
       "\t<tr><th scope=row>10344614</th><td>6.586910 </td><td>6.735943 </td><td> 6.625210</td><td>6.874387 </td></tr>\n",
       "\t<tr><th scope=row>10344616</th><td>1.692077 </td><td>1.614987 </td><td> 1.651150</td><td>1.650253 </td></tr>\n",
       "\t<tr><th scope=row>10344618</th><td>1.788980 </td><td>1.721593 </td><td> 1.770240</td><td>1.607290 </td></tr>\n",
       "\t<tr><th scope=row>10344620</th><td>3.766230 </td><td>3.873763 </td><td> 3.621043</td><td>3.727957 </td></tr>\n",
       "\t<tr><th scope=row>10344622</th><td>6.737197 </td><td>6.775083 </td><td> 7.473830</td><td>7.690603 </td></tr>\n",
       "\t<tr><th scope=row>10344624</th><td>9.844063 </td><td>9.898787 </td><td>10.063647</td><td>9.848500 </td></tr>\n",
       "</tbody>\n",
       "</table>\n"
      ],
      "text/latex": [
       "\\begin{tabular}{r|llll}\n",
       "  & CD & CR85 & CR70 & CR55\\\\\n",
       "\\hline\n",
       "\t10344614 & 6.586910  & 6.735943  &  6.625210 & 6.874387 \\\\\n",
       "\t10344616 & 1.692077  & 1.614987  &  1.651150 & 1.650253 \\\\\n",
       "\t10344618 & 1.788980  & 1.721593  &  1.770240 & 1.607290 \\\\\n",
       "\t10344620 & 3.766230  & 3.873763  &  3.621043 & 3.727957 \\\\\n",
       "\t10344622 & 6.737197  & 6.775083  &  7.473830 & 7.690603 \\\\\n",
       "\t10344624 & 9.844063  & 9.898787  & 10.063647 & 9.848500 \\\\\n",
       "\\end{tabular}\n"
      ],
      "text/markdown": [
       "\n",
       "| <!--/--> | CD | CR85 | CR70 | CR55 | \n",
       "|---|---|---|---|---|---|\n",
       "| 10344614 | 6.586910  | 6.735943  |  6.625210 | 6.874387  | \n",
       "| 10344616 | 1.692077  | 1.614987  |  1.651150 | 1.650253  | \n",
       "| 10344618 | 1.788980  | 1.721593  |  1.770240 | 1.607290  | \n",
       "| 10344620 | 3.766230  | 3.873763  |  3.621043 | 3.727957  | \n",
       "| 10344622 | 6.737197  | 6.775083  |  7.473830 | 7.690603  | \n",
       "| 10344624 | 9.844063  | 9.898787  | 10.063647 | 9.848500  | \n",
       "\n",
       "\n"
      ],
      "text/plain": [
       "         CD       CR85     CR70      CR55    \n",
       "10344614 6.586910 6.735943  6.625210 6.874387\n",
       "10344616 1.692077 1.614987  1.651150 1.650253\n",
       "10344618 1.788980 1.721593  1.770240 1.607290\n",
       "10344620 3.766230 3.873763  3.621043 3.727957\n",
       "10344622 6.737197 6.775083  7.473830 7.690603\n",
       "10344624 9.844063 9.898787 10.063647 9.848500"
      ]
     },
     "metadata": {},
     "output_type": "display_data"
    }
   ],
   "source": [
    "tic(\"average signal by groups\")\n",
    "g.av = NULL\n",
    "for(i in levels(group)) {\n",
    "  a.av = apply(g.ex[,which(group==i)],1,mean)\n",
    "  g.av = cbind(g.av,a.av)\n",
    "}\n",
    "colnames(g.av) = levels(group)\n",
    "toc()\n",
    "head(g.av)"
   ]
  },
  {
   "cell_type": "code",
   "execution_count": 174,
   "metadata": {},
   "outputs": [
    {
     "name": "stdout",
     "output_type": "stream",
     "text": [
      "calculate fold change: 0.39 sec elapsed\n"
     ]
    },
    {
     "data": {
      "text/html": [
       "<table>\n",
       "<thead><tr><th></th><th scope=col>CR85/CD</th><th scope=col>CR70/CD</th><th scope=col>CR55/CD</th><th scope=col>pval.adj</th></tr></thead>\n",
       "<tbody>\n",
       "\t<tr><th scope=row>10344614</th><td> 1.108826 </td><td> 1.026903 </td><td> 1.220504 </td><td>0.78149931</td></tr>\n",
       "\t<tr><th scope=row>10344616</th><td>-1.054888 </td><td>-1.028774 </td><td>-1.029414 </td><td>0.91034359</td></tr>\n",
       "\t<tr><th scope=row>10344618</th><td>-1.047817 </td><td>-1.013074 </td><td>-1.134212 </td><td>0.68383792</td></tr>\n",
       "\t<tr><th scope=row>10344620</th><td> 1.077385 </td><td>-1.105874 </td><td>-1.026884 </td><td>0.48705134</td></tr>\n",
       "\t<tr><th scope=row>10344622</th><td> 1.026609 </td><td> 1.666283 </td><td> 1.936440 </td><td>0.08942918</td></tr>\n",
       "\t<tr><th scope=row>10344624</th><td> 1.038660 </td><td> 1.164397 </td><td> 1.003080 </td><td>0.83059136</td></tr>\n",
       "</tbody>\n",
       "</table>\n"
      ],
      "text/latex": [
       "\\begin{tabular}{r|llll}\n",
       "  & CR85/CD & CR70/CD & CR55/CD & pval.adj\\\\\n",
       "\\hline\n",
       "\t10344614 &  1.108826  &  1.026903  &  1.220504  & 0.78149931\\\\\n",
       "\t10344616 & -1.054888  & -1.028774  & -1.029414  & 0.91034359\\\\\n",
       "\t10344618 & -1.047817  & -1.013074  & -1.134212  & 0.68383792\\\\\n",
       "\t10344620 &  1.077385  & -1.105874  & -1.026884  & 0.48705134\\\\\n",
       "\t10344622 &  1.026609  &  1.666283  &  1.936440  & 0.08942918\\\\\n",
       "\t10344624 &  1.038660  &  1.164397  &  1.003080  & 0.83059136\\\\\n",
       "\\end{tabular}\n"
      ],
      "text/markdown": [
       "\n",
       "| <!--/--> | CR85/CD | CR70/CD | CR55/CD | pval.adj | \n",
       "|---|---|---|---|---|---|\n",
       "| 10344614 |  1.108826  |  1.026903  |  1.220504  | 0.78149931 | \n",
       "| 10344616 | -1.054888  | -1.028774  | -1.029414  | 0.91034359 | \n",
       "| 10344618 | -1.047817  | -1.013074  | -1.134212  | 0.68383792 | \n",
       "| 10344620 |  1.077385  | -1.105874  | -1.026884  | 0.48705134 | \n",
       "| 10344622 |  1.026609  |  1.666283  |  1.936440  | 0.08942918 | \n",
       "| 10344624 |  1.038660  |  1.164397  |  1.003080  | 0.83059136 | \n",
       "\n",
       "\n"
      ],
      "text/plain": [
       "         CR85/CD   CR70/CD   CR55/CD   pval.adj  \n",
       "10344614  1.108826  1.026903  1.220504 0.78149931\n",
       "10344616 -1.054888 -1.028774 -1.029414 0.91034359\n",
       "10344618 -1.047817 -1.013074 -1.134212 0.68383792\n",
       "10344620  1.077385 -1.105874 -1.026884 0.48705134\n",
       "10344622  1.026609  1.666283  1.936440 0.08942918\n",
       "10344624  1.038660  1.164397  1.003080 0.83059136"
      ]
     },
     "metadata": {},
     "output_type": "display_data"
    }
   ],
   "source": [
    "tic(\"calculate fold change\")\n",
    "g.fc = NULL\n",
    "for(i in 1:length(colnames(g.av)[-1])) {\n",
    "  a.fc.log = g.av[,i+1]-g.av[,1] # log2 form\n",
    "  a.fc = sapply(a.fc.log, function(x) ifelse(x>0,2^x,-(2^(-x))))\n",
    "  g.fc = cbind(g.fc, a.fc)\n",
    "}\n",
    "colnames(g.fc) = paste(levels(group)[-1],levels(group)[1],sep=\"/\")\n",
    "toc()\n",
    "head(cbind(g.fc,pval.adj))"
   ]
  },
  {
   "cell_type": "markdown",
   "metadata": {},
   "source": [
    "### 5. Filter differentially expressed genes\n",
    "\n",
    "* Statistical criteria by FDR <0.05 & |FC| >1.5"
   ]
  },
  {
   "cell_type": "code",
   "execution_count": 179,
   "metadata": {},
   "outputs": [
    {
     "data": {
      "image/png": "[encoded data removed]",
      "text/plain": [
       "plot without title"
      ]
     },
     "metadata": {},
     "output_type": "display_data",
     "source": "R display func"
    }
   ],
   "source": [
    "g.fc.max = apply(abs(g.fc),1,max)\n",
    "id_deg = list(which(pval.adj<0.05 & g.fc.max>1.0),\n",
    "              which(pval.adj<0.05 & g.fc.max>1.5), #<- Selected criteria\n",
    "              which(pval.adj<0.05 & g.fc.max>2.0),\n",
    "              which(pval.adj<0.05 & g.fc.max>3.0))\n",
    "id_deg_size = NULL\n",
    "for(i in 1:length(id_deg)) id_deg_size = c(id_deg_size,length(id_deg[[i]]))\n",
    "names(id_deg_size) = paste0(\"FC>\",c(\"1.0\",\"1.5\",\"2.0\",\"3.0\"))\n",
    "\n",
    "barp = barplot(id_deg_size, col=c(\"white\",\"yellow\",\"gray50\",\"black\"),ylim=c(0,580))\n",
    "text(barp,id_deg_size+10,paste(\"n=\",id_deg_size),cex=1)"
   ]
  },
  {
   "cell_type": "markdown",
   "metadata": {},
   "source": [
    "### 6. Correlation histogram"
   ]
  },
  {
   "cell_type": "code",
   "execution_count": 180,
   "metadata": {},
   "outputs": [
    {
     "name": "stdout",
     "output_type": "stream",
     "text": [
      "  10345869   10346164   10346564   10347915   10349724   10350003 \n",
      "-0.9285330 -0.8898520 -0.9408459 -0.8543054 -0.9352794 -0.8990574 \n"
     ]
    },
    {
     "data": {
      "image/png": "[encoded data removed]",
      "text/plain": [
       "Plot with title \"Histogram of correlation\""
      ]
     },
     "metadata": {},
     "output_type": "display_data",
     "source": "R display func"
    }
   ],
   "source": [
    "cr = c(rep(0,3),rep(15,3),rep(30,3),rep(45,3))\n",
    "g.deg = g.ex[id_deg[[2]],] # filter signals of DEGs\n",
    "g.corr = apply(g.deg,1,function(row) a.corr = cor(cr, row))\n",
    "print(head(g.corr))\n",
    "hist(g.corr, breaks=seq(-1,1,by=0.1), \n",
    "     main=\"Histogram of correlation\", xlab=\"Correlation r value\")"
   ]
  },
  {
   "cell_type": "markdown",
   "metadata": {},
   "source": [
    "### 7. SOM clustering"
   ]
  },
  {
   "cell_type": "code",
   "execution_count": 181,
   "metadata": {},
   "outputs": [
    {
     "data": {
      "image/png": "[encoded data removed]",
      "text/plain": [
       "Plot with title \"SOM clustering\""
      ]
     },
     "metadata": {},
     "output_type": "display_data",
     "source": "R display func"
    }
   ],
   "source": [
    "library(som)\n",
    "g.deg.s = t(scale(t(g.deg)))\n",
    "g.som = som(g.deg.s, xdim=4,ydim=4, topol=\"rect\", neigh=\"gaussian\")\n",
    "\n",
    "plot(g.som, main=\"SOM clustering\")"
   ]
  },
  {
   "cell_type": "markdown",
   "metadata": {},
   "source": [
    "* box plot of a cluster"
   ]
  },
  {
   "cell_type": "code",
   "execution_count": 186,
   "metadata": {},
   "outputs": [
    {
     "data": {
      "image/png": "[encoded data removed]",
      "text/plain": [
       "Plot with title \"Expression pattern of cluster\""
      ]
     },
     "metadata": {},
     "output_type": "display_data",
     "source": "R display func"
    }
   ],
   "source": [
    "id_x = which(g.som$visual$x==3)\n",
    "id_y = which(g.som$visual$y==0)\n",
    "id_xy = intersect(id_x,id_y)\n",
    "clst = g.deg.s[id_xy,]\n",
    "colnames(clst) = c(rep(\"CD\",3),rep(\"CR85\",3),rep(\"CR70\",3),rep(\"CR55\",3))\n",
    "boxplot(clst, ylim=c(-3,3), las=2, main=paste0(\"Expression pattern of cluster\"))"
   ]
  },
  {
   "cell_type": "markdown",
   "metadata": {},
   "source": [
    "### 8. Export results as csv file"
   ]
  },
  {
   "cell_type": "code",
   "execution_count": 190,
   "metadata": {},
   "outputs": [
    {
     "data": {
      "text/html": [
       "<table>\n",
       "<thead><tr><th></th><th scope=col>GSM1483027</th><th scope=col>GSM1483028</th><th scope=col>GSM1483029</th><th scope=col>GSM1483030</th><th scope=col>GSM1483031</th><th scope=col>GSM1483032</th><th scope=col>GSM1483033</th><th scope=col>GSM1483034</th><th scope=col>GSM1483035</th><th scope=col>GSM1483036</th><th scope=col>GSM1483037</th><th scope=col>GSM1483038</th><th scope=col>p.adj.deg</th><th scope=col>g.fc.deg</th><th scope=col>g.corr</th><th scope=col>g.som.visual.x</th><th scope=col>g.som.visual.y</th></tr></thead>\n",
       "<tbody>\n",
       "\t<tr><th scope=row>10345869</th><td>11.52170  </td><td>11.51370  </td><td>11.46480  </td><td>11.43850  </td><td>11.52470  </td><td>11.34540  </td><td>11.14330  </td><td>11.26410  </td><td>11.00900  </td><td>10.99940  </td><td>10.82290  </td><td>10.81690  </td><td>0.02543059</td><td>-1.045263 </td><td>-0.9285330</td><td>0         </td><td>3         </td></tr>\n",
       "\t<tr><th scope=row>10346164</th><td>10.72960  </td><td>10.67810  </td><td>10.87450  </td><td>10.56830  </td><td>10.64940  </td><td>10.76170  </td><td>10.23750  </td><td>10.62760  </td><td>10.48220  </td><td> 9.99498  </td><td> 9.92298  </td><td>10.17240  </td><td>0.04697059</td><td>-1.072467 </td><td>-0.8898520</td><td>0         </td><td>3         </td></tr>\n",
       "\t<tr><th scope=row>10346564</th><td> 9.02001  </td><td> 9.12466  </td><td> 8.90009  </td><td> 8.76900  </td><td> 8.97380  </td><td> 8.79245  </td><td> 8.74924  </td><td> 8.54441  </td><td> 8.49560  </td><td> 8.13174  </td><td> 8.25174  </td><td> 8.30694  </td><td>0.02564268</td><td>-1.124931 </td><td>-0.9408459</td><td>0         </td><td>3         </td></tr>\n",
       "\t<tr><th scope=row>10347915</th><td> 6.87597  </td><td> 6.34713  </td><td> 6.43746  </td><td> 5.83392  </td><td> 5.89777  </td><td> 5.91611  </td><td> 4.85565  </td><td> 5.53789  </td><td> 4.40175  </td><td> 4.91589  </td><td> 5.17006  </td><td> 5.11862  </td><td>0.04977909</td><td>-1.592088 </td><td>-0.8543054</td><td>0         </td><td>2         </td></tr>\n",
       "\t<tr><th scope=row>10349724</th><td> 7.80890  </td><td> 7.63765  </td><td> 7.83386  </td><td> 7.10431  </td><td> 7.36179  </td><td> 7.53575  </td><td> 7.10471  </td><td> 7.15266  </td><td> 7.00408  </td><td> 6.77485  </td><td> 6.94244  </td><td> 6.53126  </td><td>0.03692155</td><td>-1.343677 </td><td>-0.9352794</td><td>0         </td><td>3         </td></tr>\n",
       "\t<tr><th scope=row>10350003</th><td> 8.31725  </td><td> 8.28942  </td><td> 8.32429  </td><td> 8.05015  </td><td> 8.19442  </td><td> 8.39471  </td><td> 8.06220  </td><td> 8.09464  </td><td> 7.97296  </td><td> 7.72558  </td><td> 7.58678  </td><td> 7.81600  </td><td>0.04407085</td><td>-1.069715 </td><td>-0.8990574</td><td>0         </td><td>3         </td></tr>\n",
       "</tbody>\n",
       "</table>\n"
      ],
      "text/latex": [
       "\\begin{tabular}{r|lllllllllllllllll}\n",
       "  & GSM1483027 & GSM1483028 & GSM1483029 & GSM1483030 & GSM1483031 & GSM1483032 & GSM1483033 & GSM1483034 & GSM1483035 & GSM1483036 & GSM1483037 & GSM1483038 & p.adj.deg & g.fc.deg & g.corr & g.som.visual.x & g.som.visual.y\\\\\n",
       "\\hline\n",
       "\t10345869 & 11.52170   & 11.51370   & 11.46480   & 11.43850   & 11.52470   & 11.34540   & 11.14330   & 11.26410   & 11.00900   & 10.99940   & 10.82290   & 10.81690   & 0.02543059 & -1.045263  & -0.9285330 & 0          & 3         \\\\\n",
       "\t10346164 & 10.72960   & 10.67810   & 10.87450   & 10.56830   & 10.64940   & 10.76170   & 10.23750   & 10.62760   & 10.48220   &  9.99498   &  9.92298   & 10.17240   & 0.04697059 & -1.072467  & -0.8898520 & 0          & 3         \\\\\n",
       "\t10346564 &  9.02001   &  9.12466   &  8.90009   &  8.76900   &  8.97380   &  8.79245   &  8.74924   &  8.54441   &  8.49560   &  8.13174   &  8.25174   &  8.30694   & 0.02564268 & -1.124931  & -0.9408459 & 0          & 3         \\\\\n",
       "\t10347915 &  6.87597   &  6.34713   &  6.43746   &  5.83392   &  5.89777   &  5.91611   &  4.85565   &  5.53789   &  4.40175   &  4.91589   &  5.17006   &  5.11862   & 0.04977909 & -1.592088  & -0.8543054 & 0          & 2         \\\\\n",
       "\t10349724 &  7.80890   &  7.63765   &  7.83386   &  7.10431   &  7.36179   &  7.53575   &  7.10471   &  7.15266   &  7.00408   &  6.77485   &  6.94244   &  6.53126   & 0.03692155 & -1.343677  & -0.9352794 & 0          & 3         \\\\\n",
       "\t10350003 &  8.31725   &  8.28942   &  8.32429   &  8.05015   &  8.19442   &  8.39471   &  8.06220   &  8.09464   &  7.97296   &  7.72558   &  7.58678   &  7.81600   & 0.04407085 & -1.069715  & -0.8990574 & 0          & 3         \\\\\n",
       "\\end{tabular}\n"
      ],
      "text/markdown": [
       "\n",
       "| <!--/--> | GSM1483027 | GSM1483028 | GSM1483029 | GSM1483030 | GSM1483031 | GSM1483032 | GSM1483033 | GSM1483034 | GSM1483035 | GSM1483036 | GSM1483037 | GSM1483038 | p.adj.deg | g.fc.deg | g.corr | g.som.visual.x | g.som.visual.y | \n",
       "|---|---|---|---|---|---|\n",
       "| 10345869 | 11.52170   | 11.51370   | 11.46480   | 11.43850   | 11.52470   | 11.34540   | 11.14330   | 11.26410   | 11.00900   | 10.99940   | 10.82290   | 10.81690   | 0.02543059 | -1.045263  | -0.9285330 | 0          | 3          | \n",
       "| 10346164 | 10.72960   | 10.67810   | 10.87450   | 10.56830   | 10.64940   | 10.76170   | 10.23750   | 10.62760   | 10.48220   |  9.99498   |  9.92298   | 10.17240   | 0.04697059 | -1.072467  | -0.8898520 | 0          | 3          | \n",
       "| 10346564 |  9.02001   |  9.12466   |  8.90009   |  8.76900   |  8.97380   |  8.79245   |  8.74924   |  8.54441   |  8.49560   |  8.13174   |  8.25174   |  8.30694   | 0.02564268 | -1.124931  | -0.9408459 | 0          | 3          | \n",
       "| 10347915 |  6.87597   |  6.34713   |  6.43746   |  5.83392   |  5.89777   |  5.91611   |  4.85565   |  5.53789   |  4.40175   |  4.91589   |  5.17006   |  5.11862   | 0.04977909 | -1.592088  | -0.8543054 | 0          | 2          | \n",
       "| 10349724 |  7.80890   |  7.63765   |  7.83386   |  7.10431   |  7.36179   |  7.53575   |  7.10471   |  7.15266   |  7.00408   |  6.77485   |  6.94244   |  6.53126   | 0.03692155 | -1.343677  | -0.9352794 | 0          | 3          | \n",
       "| 10350003 |  8.31725   |  8.28942   |  8.32429   |  8.05015   |  8.19442   |  8.39471   |  8.06220   |  8.09464   |  7.97296   |  7.72558   |  7.58678   |  7.81600   | 0.04407085 | -1.069715  | -0.8990574 | 0          | 3          | \n",
       "\n",
       "\n"
      ],
      "text/plain": [
       "         GSM1483027 GSM1483028 GSM1483029 GSM1483030 GSM1483031 GSM1483032\n",
       "10345869 11.52170   11.51370   11.46480   11.43850   11.52470   11.34540  \n",
       "10346164 10.72960   10.67810   10.87450   10.56830   10.64940   10.76170  \n",
       "10346564  9.02001    9.12466    8.90009    8.76900    8.97380    8.79245  \n",
       "10347915  6.87597    6.34713    6.43746    5.83392    5.89777    5.91611  \n",
       "10349724  7.80890    7.63765    7.83386    7.10431    7.36179    7.53575  \n",
       "10350003  8.31725    8.28942    8.32429    8.05015    8.19442    8.39471  \n",
       "         GSM1483033 GSM1483034 GSM1483035 GSM1483036 GSM1483037 GSM1483038\n",
       "10345869 11.14330   11.26410   11.00900   10.99940   10.82290   10.81690  \n",
       "10346164 10.23750   10.62760   10.48220    9.99498    9.92298   10.17240  \n",
       "10346564  8.74924    8.54441    8.49560    8.13174    8.25174    8.30694  \n",
       "10347915  4.85565    5.53789    4.40175    4.91589    5.17006    5.11862  \n",
       "10349724  7.10471    7.15266    7.00408    6.77485    6.94244    6.53126  \n",
       "10350003  8.06220    8.09464    7.97296    7.72558    7.58678    7.81600  \n",
       "         p.adj.deg  g.fc.deg  g.corr     g.som.visual.x g.som.visual.y\n",
       "10345869 0.02543059 -1.045263 -0.9285330 0              3             \n",
       "10346164 0.04697059 -1.072467 -0.8898520 0              3             \n",
       "10346564 0.02564268 -1.124931 -0.9408459 0              3             \n",
       "10347915 0.04977909 -1.592088 -0.8543054 0              2             \n",
       "10349724 0.03692155 -1.343677 -0.9352794 0              3             \n",
       "10350003 0.04407085 -1.069715 -0.8990574 0              3             "
      ]
     },
     "metadata": {},
     "output_type": "display_data"
    }
   ],
   "source": [
    "p.adj.deg = pval.adj[id_deg[[2]]]\n",
    "g.fc.deg = g.fc[id_deg[[2]]]\n",
    "g.som.xy = data.frame(g.som$visual$x, g.som$visual$y)\n",
    "\n",
    "out = cbind(g.deg, p.adj.deg, g.fc.deg, g.corr, g.som.xy)\n",
    "head(out)\n",
    "#write.csv(out, \"analysis.csv\")"
   ]
  },
  {
   "cell_type": "markdown",
   "metadata": {},
   "source": [
    "## ss.gene.selec function\n",
    "\n",
    "* This function is working for DEG selection based on FC & FDR values\n",
    "* Ver 1.4  - 170907, add fc criteria option"
   ]
  },
  {
   "cell_type": "code",
   "execution_count": 246,
   "metadata": {},
   "outputs": [],
   "source": [
    "ss.gene.selec = function(data.fc, fc=c(2,3), data.pval, pval=c(0.01,0.05,0.1), uniononly=F,test=NULL) {\n",
    "  n= length(fc); m= ncol(data.fc); l= length(pval)\n",
    "  result=NULL; uninum=NULL\n",
    "  for(i in 1:n) { # iteration for fc\n",
    "    fc.result=NULL; fdr.id=NULL\n",
    "    for(j in 1:m) {\n",
    "      fdr=NULL; col = NULL\n",
    "      for(k in 1:l) {\n",
    "        if(test==\"anova\") {\n",
    "          if(k==1) { fdr[[k]] = list(NULL) }\n",
    "          fdr[[k]] = which(data.pval<=pval[k] & abs(data.fc[,j])>fc[i])\n",
    "        } else if(test==\"ttest\") {\n",
    "          fdr[[k]] = which(data.pval[,j]<=pval[k] & abs(data.fc[,j])>fc[i])\n",
    "        } else { stop(\"please input --> test='anova' or 'ttest'\"); }\n",
    "        col = c(col,length(fdr[[k]]))\n",
    "        if(j==1) { fdr.id[k]=list(NULL) }\n",
    "        fdr.id[[k]] = union(fdr.id[[k]],fdr[[k]])\n",
    "      }\n",
    "      fc.result = cbind(fc.result,col)\n",
    "    }\n",
    "    uni = NULL\n",
    "    for(k in 1:l) uni = c(uni,length(fdr.id[[k]]))\n",
    "    if(uniononly==F) {\n",
    "      result = rbind(result,fc.result)\n",
    "      uninum = c(uninum,uni)\n",
    "    } else if(uniononly==T) { result = cbind(result,uni) }\n",
    "  }\n",
    "  if(uniononly==F) {\n",
    "    result = cbind(result,uninum)\n",
    "    colnames(result) = c(colnames(data.fc),\"Union\")\n",
    "\n",
    "    thrsh_fc = c(paste0(\"FC\",fc))\n",
    "    thrsh_pval = c(paste(names(data.pval)[1],pval))\n",
    "    thrsh = as.vector(outer(thrsh_pval,thrsh_fc,paste,sep=\" & \"))\n",
    "    rownames(result) = thrsh\n",
    "  } else if(uniononly==T) {\n",
    "    colnames(result) = c(paste0('FC',fc))\n",
    "    rownames(result) = paste0(names(data.pval)[1],pval)\n",
    "  }\n",
    "  #write.csv(result,\"ss.gene.selec_result.csv\")\n",
    "  #print(\"Result saved as 'ss.gene.selec_result.csv'.\")\n",
    "  return(result)\n",
    "}"
   ]
  },
  {
   "cell_type": "code",
   "execution_count": 242,
   "metadata": {},
   "outputs": [
    {
     "name": "stdout",
     "output_type": "stream",
     "text": [
      "[1] 28853     3\n",
      "[1] 28853\n"
     ]
    }
   ],
   "source": [
    "print(dim(g.fc))\n",
    "print(length(pval.adj))\n",
    "names(pval.adj) = \"FDR\""
   ]
  },
  {
   "cell_type": "code",
   "execution_count": 268,
   "metadata": {},
   "outputs": [
    {
     "data": {
      "text/html": [
       "<table>\n",
       "<thead><tr><th></th><th scope=col>CR85.CD</th><th scope=col>CR70.CD</th><th scope=col>CR55.CD</th><th scope=col>Union</th></tr></thead>\n",
       "<tbody>\n",
       "\t<tr><th scope=row>FDR 0.01 &amp; FC0</th><td>  24</td><td>  24</td><td>  24</td><td>  24</td></tr>\n",
       "\t<tr><th scope=row>FDR 0.01 &amp; FC1.5</th><td>   4</td><td>  15</td><td>  21</td><td>  21</td></tr>\n",
       "\t<tr><th scope=row>FDR 0.01 &amp; FC2</th><td>   0</td><td>   5</td><td>  15</td><td>  15</td></tr>\n",
       "\t<tr><th scope=row>FDR 0.01 &amp; FC3</th><td>   0</td><td>   2</td><td>   9</td><td>   9</td></tr>\n",
       "\t<tr><th scope=row>FDR 0.01 &amp; FC5</th><td>   0</td><td>   1</td><td>   4</td><td>   4</td></tr>\n",
       "\t<tr><th scope=row>FDR 0.05 &amp; FC0</th><td> 550</td><td> 550</td><td> 550</td><td> 550</td></tr>\n",
       "\t<tr><th scope=row>FDR 0.05 &amp; FC1.5</th><td>  75</td><td> 290</td><td> 441</td><td> 447</td></tr>\n",
       "\t<tr><th scope=row>FDR 0.05 &amp; FC2</th><td>  15</td><td> 103</td><td> 254</td><td> 258</td></tr>\n",
       "\t<tr><th scope=row>FDR 0.05 &amp; FC3</th><td>   1</td><td>  32</td><td>  81</td><td>  83</td></tr>\n",
       "\t<tr><th scope=row>FDR 0.05 &amp; FC5</th><td>   0</td><td>   7</td><td>  26</td><td>  26</td></tr>\n",
       "\t<tr><th scope=row>FDR 0.1 &amp; FC0</th><td>1234</td><td>1234</td><td>1234</td><td>1234</td></tr>\n",
       "\t<tr><th scope=row>FDR 0.1 &amp; FC1.5</th><td> 124</td><td> 521</td><td> 849</td><td> 868</td></tr>\n",
       "\t<tr><th scope=row>FDR 0.1 &amp; FC2</th><td>  25</td><td> 169</td><td> 397</td><td> 405</td></tr>\n",
       "\t<tr><th scope=row>FDR 0.1 &amp; FC3</th><td>   3</td><td>  50</td><td> 112</td><td> 117</td></tr>\n",
       "\t<tr><th scope=row>FDR 0.1 &amp; FC5</th><td>   1</td><td>  10</td><td>  33</td><td>  33</td></tr>\n",
       "</tbody>\n",
       "</table>\n"
      ],
      "text/latex": [
       "\\begin{tabular}{r|llll}\n",
       "  & CR85.CD & CR70.CD & CR55.CD & Union\\\\\n",
       "\\hline\n",
       "\tFDR 0.01 \\& FC0 &   24 &   24 &   24 &   24\\\\\n",
       "\tFDR 0.01 \\& FC1.5 &    4 &   15 &   21 &   21\\\\\n",
       "\tFDR 0.01 \\& FC2 &    0 &    5 &   15 &   15\\\\\n",
       "\tFDR 0.01 \\& FC3 &    0 &    2 &    9 &    9\\\\\n",
       "\tFDR 0.01 \\& FC5 &    0 &    1 &    4 &    4\\\\\n",
       "\tFDR 0.05 \\& FC0 &  550 &  550 &  550 &  550\\\\\n",
       "\tFDR 0.05 \\& FC1.5 &   75 &  290 &  441 &  447\\\\\n",
       "\tFDR 0.05 \\& FC2 &   15 &  103 &  254 &  258\\\\\n",
       "\tFDR 0.05 \\& FC3 &    1 &   32 &   81 &   83\\\\\n",
       "\tFDR 0.05 \\& FC5 &    0 &    7 &   26 &   26\\\\\n",
       "\tFDR 0.1 \\& FC0 & 1234 & 1234 & 1234 & 1234\\\\\n",
       "\tFDR 0.1 \\& FC1.5 &  124 &  521 &  849 &  868\\\\\n",
       "\tFDR 0.1 \\& FC2 &   25 &  169 &  397 &  405\\\\\n",
       "\tFDR 0.1 \\& FC3 &    3 &   50 &  112 &  117\\\\\n",
       "\tFDR 0.1 \\& FC5 &    1 &   10 &   33 &   33\\\\\n",
       "\\end{tabular}\n"
      ],
      "text/markdown": [
       "\n",
       "| <!--/--> | CR85.CD | CR70.CD | CR55.CD | Union | \n",
       "|---|---|---|---|---|---|---|---|---|---|---|---|---|---|---|\n",
       "| FDR 0.01 & FC0 |   24 |   24 |   24 |   24 | \n",
       "| FDR 0.01 & FC1.5 |    4 |   15 |   21 |   21 | \n",
       "| FDR 0.01 & FC2 |    0 |    5 |   15 |   15 | \n",
       "| FDR 0.01 & FC3 |    0 |    2 |    9 |    9 | \n",
       "| FDR 0.01 & FC5 |    0 |    1 |    4 |    4 | \n",
       "| FDR 0.05 & FC0 |  550 |  550 |  550 |  550 | \n",
       "| FDR 0.05 & FC1.5 |   75 |  290 |  441 |  447 | \n",
       "| FDR 0.05 & FC2 |   15 |  103 |  254 |  258 | \n",
       "| FDR 0.05 & FC3 |    1 |   32 |   81 |   83 | \n",
       "| FDR 0.05 & FC5 |    0 |    7 |   26 |   26 | \n",
       "| FDR 0.1 & FC0 | 1234 | 1234 | 1234 | 1234 | \n",
       "| FDR 0.1 & FC1.5 |  124 |  521 |  849 |  868 | \n",
       "| FDR 0.1 & FC2 |   25 |  169 |  397 |  405 | \n",
       "| FDR 0.1 & FC3 |    3 |   50 |  112 |  117 | \n",
       "| FDR 0.1 & FC5 |    1 |   10 |   33 |   33 | \n",
       "\n",
       "\n"
      ],
      "text/plain": [
       "                 CR85.CD CR70.CD CR55.CD Union\n",
       "FDR 0.01 & FC0     24      24      24      24 \n",
       "FDR 0.01 & FC1.5    4      15      21      21 \n",
       "FDR 0.01 & FC2      0       5      15      15 \n",
       "FDR 0.01 & FC3      0       2       9       9 \n",
       "FDR 0.01 & FC5      0       1       4       4 \n",
       "FDR 0.05 & FC0    550     550     550     550 \n",
       "FDR 0.05 & FC1.5   75     290     441     447 \n",
       "FDR 0.05 & FC2     15     103     254     258 \n",
       "FDR 0.05 & FC3      1      32      81      83 \n",
       "FDR 0.05 & FC5      0       7      26      26 \n",
       "FDR 0.1 & FC0    1234    1234    1234    1234 \n",
       "FDR 0.1 & FC1.5   124     521     849     868 \n",
       "FDR 0.1 & FC2      25     169     397     405 \n",
       "FDR 0.1 & FC3       3      50     112     117 \n",
       "FDR 0.1 & FC5       1      10      33      33 "
      ]
     },
     "metadata": {},
     "output_type": "display_data"
    }
   ],
   "source": [
    "fc_thrsh = c(0,1.5,2,3,5)\n",
    "pval_thrsh = c(0.01,0.05,0.1)\n",
    "out = ss.gene.selec(data.fc=g.fc, fc=fc_thrsh,\n",
    "                    data.pval=pval.adj, pval=pval_thrsh,\n",
    "                    uniononly=F, test='anova') # test='anova' or 'ttest'\n",
    "out = data.frame(out[order(rownames(out)),])\n",
    "out"
   ]
  },
  {
   "cell_type": "code",
   "execution_count": 274,
   "metadata": {},
   "outputs": [
    {
     "data": {
      "image/png": "[encoded data removed]",
      "text/plain": [
       "plot without title"
      ]
     },
     "metadata": {},
     "output_type": "display_data",
     "source": "R display func"
    }
   ],
   "source": [
    "par(mar=c(2+round(max(nchar(rownames(out)))/2),4,2,1)) # to show long x-labels\n",
    "barp2 = barplot(out$Union, names.arg=rownames(out), ylim=c(0,1400), las=2,\n",
    "                col=rep(c(\"white\",\"gray80\",\"gray60\",\"gray40\",\"black\"),3))\n",
    "text(barp2,out$Union+100,paste0(\"n=\",out$Union),cex=1)"
   ]
  },
  {
   "cell_type": "code",
   "execution_count": 1,
   "metadata": {},
   "outputs": [
    {
     "data": {
      "text/plain": [
       "R version 3.4.3 (2017-11-30)\n",
       "Platform: x86_64-w64-mingw32/x64 (64-bit)\n",
       "Running under: Windows 10 x64 (build 16299)\n",
       "\n",
       "Matrix products: default\n",
       "\n",
       "locale:\n",
       "[1] LC_COLLATE=Korean_Korea.949  LC_CTYPE=Korean_Korea.949   \n",
       "[3] LC_MONETARY=Korean_Korea.949 LC_NUMERIC=C                \n",
       "[5] LC_TIME=Korean_Korea.949    \n",
       "\n",
       "attached base packages:\n",
       "[1] stats     graphics  grDevices utils     datasets  methods   base     \n",
       "\n",
       "loaded via a namespace (and not attached):\n",
       " [1] compiler_3.4.3      R6_2.2.2            magrittr_1.5       \n",
       " [4] IRdisplay_0.4.4     pbdZMQ_0.2-6        tools_3.4.3        \n",
       " [7] crayon_1.3.4        uuid_0.1-2          stringi_1.1.6      \n",
       "[10] IRkernel_0.8.8.9000 jsonlite_1.5        stringr_1.2.0      \n",
       "[13] digest_0.6.13       repr_0.12.0         evaluate_0.10.1    "
      ]
     },
     "metadata": {},
     "output_type": "display_data"
    }
   ],
   "source": [
    "sessionInfo()"
   ]
  }
 ],
 "metadata": {
  "kernelspec": {
   "display_name": "R",
   "language": "R",
   "name": "ir"
  },
  "language_info": {
   "codemirror_mode": "r",
   "file_extension": ".r",
   "mimetype": "text/x-r-source",
   "name": "R",
   "pygments_lexer": "r",
   "version": "3.4.3"
  }
 },
 "nbformat": 4,
 "nbformat_minor": 2
}
